{
 "cells": [
  {
   "cell_type": "markdown",
   "metadata": {},
   "source": [
    "The following dependencies are required to run the code:\n",
    "    pandas\n",
    "    \n",
    "NOTE: matlplotlib is an optional dependency to generate charts\n",
    "\n",
    "We will first import our dependencies, load in the mushroom data, and split up our test and training records:"
   ]
  },
  {
   "cell_type": "code",
   "execution_count": 18,
   "metadata": {
    "collapsed": true
   },
   "outputs": [],
   "source": [
    "import pandas as pd\n",
    "import numpy as np\n",
    "\n",
    "mushroom_data = pd.read_csv('../Data/agaricus-lepiota.data')\n",
    "#shuffle the data\n",
    "mushroom_data = mushroom_data.iloc[np.random.permutation(len(mushroom_data))]\n",
    "mushroom_data.reset_index(drop=True)\n",
    "\n",
    "num_test = 100\n",
    "training_records = mushroom_data[num_test:].values\n",
    "test_records = mushroom_data[:num_test].values"
   ]
  },
  {
   "cell_type": "markdown",
   "metadata": {},
   "source": [
    "# K Nearest Neighbor"
   ]
  },
  {
   "cell_type": "code",
   "execution_count": 19,
   "metadata": {
    "collapsed": false
   },
   "outputs": [
    {
     "name": "stdout",
     "output_type": "stream",
     "text": [
      "Results: 100 correct out of 100\n"
     ]
    }
   ],
   "source": [
    "from KNN.helpers import get_closest_k,vote_by_neighbor_weights\n",
    "from KNN.knnreadable import KNNReadable\n",
    "\n",
    "k = 5\n",
    "#assign numerical values to each value so that numerical classifiers can use information\n",
    "def get_value_map(unique_values):\n",
    "    return {unique_values[i]: i for i in range(len(unique_values))}\n",
    "    \n",
    "distinct_col_vals = {col: get_value_map(mushroom_data[col].unique()) for col in mushroom_data.columns}\n",
    "\n",
    "def get_knn_readable(v):\n",
    "    classification = v[0]\n",
    "    values = []\n",
    "    for i in range(1,len(mushroom_data.columns)):\n",
    "        col = mushroom_data.columns[i]\n",
    "        col_val = v[i]\n",
    "        numerical_val = distinct_col_vals[col][col_val]\n",
    "        values.append(numerical_val)\n",
    "    return KNNReadable(values,classification)\n",
    "    \n",
    "training_data = [get_knn_readable(v) for v in training_records]\n",
    "\n",
    "test_data = [get_knn_readable(v) for v in test_records]\n",
    "\n",
    "correct = 0\n",
    "total = 0\n",
    "for test_obj in test_data:\n",
    "    k = len(training_data) if k == 0 else k\n",
    "    closest_k = get_closest_k(test_obj,training_data,k)\n",
    "    test_obj.guess = vote_by_neighbor_weights(test_obj,closest_k)\n",
    "\n",
    "num_correct = len([td for td in test_data if td.name == td.guess])\n",
    "print 'Results: %i correct out of %i' %(num_correct,num_test)"
   ]
  },
  {
   "cell_type": "markdown",
   "metadata": {},
   "source": [
    "# Decision Tree Classification"
   ]
  },
  {
   "cell_type": "code",
   "execution_count": 20,
   "metadata": {
    "collapsed": false
   },
   "outputs": [
    {
     "name": "stdout",
     "output_type": "stream",
     "text": [
      "Decision Tree Classification\n",
      "Computing...\n",
      "Results: 100 correct out of 100\n"
     ]
    }
   ],
   "source": [
    "from DTree.helpers import *\n",
    "\n",
    "print 'Decision Tree Classification'\n",
    "print 'Computing...'\n",
    "\n",
    "classification_attributes = [col for col in mushroom_data.columns if col != 'class']\n",
    "# Create the decision tree to use for classification\n",
    "train_data = mushroom_data.iloc[[i for i in range(len(mushroom_data)) if i >= num_test]]\n",
    "test_data = mushroom_data.iloc[[i for i in range(len(mushroom_data)) if i < num_test]]\n",
    "attr_vals = {attr: list(set(mushroom_data[attr])) for attr in classification_attributes}\n",
    "\n",
    "decision_tree = id3(train_data,classification_attributes,attr_vals)\n",
    "\n",
    "# loop over and compare classification from tree to actual classification\n",
    "# and keep track of the number correct\n",
    "test_records = [record[1] for record in test_data.iterrows()]\n",
    "total_test_records = len(test_data)\n",
    "num_correct = 0\n",
    "index = 0\n",
    "for record in test_records:\n",
    "    tree = decision_tree\n",
    "    guess = classify_test_case(tree,record)\n",
    "    if guess == record['class']:\n",
    "        num_correct += 1\n",
    "    index += 1\n",
    "\n",
    "print 'Results: %i correct out of %i' %(num_correct,total_test_records)"
   ]
  },
  {
   "cell_type": "markdown",
   "metadata": {},
   "source": [
    "The following code runs the decision tree classifier with one classification attribute at a time to see how associated each field is with edibility."
   ]
  },
  {
   "cell_type": "code",
   "execution_count": 27,
   "metadata": {
    "collapsed": false
   },
   "outputs": [
    {
     "name": "stdout",
     "output_type": "stream",
     "text": [
      "cap-shape: 56 correct out of 100\n",
      "cap-surface: 49 correct out of 100\n",
      "cap-color: 59 correct out of 100\n",
      "bruises: 75 correct out of 100\n",
      "odor: 100 correct out of 100\n",
      "gill-attachment: 54 correct out of 100\n",
      "gill-spacing: 58 correct out of 100\n",
      "gill-size: 73 correct out of 100\n",
      "gill-color: 78 correct out of 100\n",
      "stalk-shape: 55 correct out of 100\n",
      "stalk-root: 60 correct out of 100\n",
      "stalk-surface-above-ring: 76 correct out of 100\n",
      "stalk-surface-below-ring: 79 correct out of 100\n",
      "stalk-color-above-ring: 70 correct out of 100\n",
      "stalk-color-below-ring: 70 correct out of 100\n",
      "veil-type: 54 correct out of 100\n",
      "veil-color: 54 correct out of 100\n",
      "ring-number: 54 correct out of 100\n",
      "ring-type: 79 correct out of 100\n",
      "spore-print-color: 85 correct out of 100\n",
      "population: 71 correct out of 100\n",
      "habitat: 76 correct out of 100\n"
     ]
    }
   ],
   "source": [
    "for attr in classification_attributes:\n",
    "    num_correct = 0\n",
    "    index = 0\n",
    "    d_tree = id3(train_data,[attr],attr_vals)\n",
    "    for record in test_records:\n",
    "        guess = classify_test_case(d_tree,record)\n",
    "        if guess == record['class']:\n",
    "            num_correct += 1\n",
    "        index += 1\n",
    "    l_num_correct.append(num_correct)\n",
    "    print '%s: %i correct out of %i' %(attr,num_correct,index)"
   ]
  },
  {
   "cell_type": "markdown",
   "metadata": {},
   "source": [
    "Classification based on odor alone was able to achieve 100% accuracy in some cases(usually between 97% and 100%). Spore print color also consistently achieved above 80% accuracy alone.  Among all fields, generally at least 10 were able to achieve over 70% accuracy alone.\n",
    "\n",
    "This many fields that are so highly separable between classes allowed the classifiers to achieve excellent results on these datasets."
   ]
  },
  {
   "cell_type": "markdown",
   "metadata": {},
   "source": [
    "The following code investigates some of the more reliable properties for determining edibility of mushrooms."
   ]
  },
  {
   "cell_type": "code",
   "execution_count": 14,
   "metadata": {
    "collapsed": false,
    "scrolled": true
   },
   "outputs": [
    {
     "name": "stdout",
     "output_type": "stream",
     "text": [
      "{'p': f    2160\n",
      "y     576\n",
      "s     576\n",
      "p     256\n",
      "c     192\n",
      "n     120\n",
      "m      36\n",
      "Name: odor, dtype: int64, 'e': n    3408\n",
      "a     400\n",
      "l     400\n",
      "Name: odor, dtype: int64}\n"
     ]
    }
   ],
   "source": [
    "class_odors = {}\n",
    "for classification in mushroom_data['class'].unique():\n",
    "    class_data = mushroom_data[mushroom_data['class'] == classification]\n",
    "    unique_odors = class_data['odor'].unique()\n",
    "    odor_freqs = class_data['odor'].value_counts()\n",
    "    class_odors[classification] = odor_freqs\n",
    "print class_odors"
   ]
  },
  {
   "cell_type": "markdown",
   "metadata": {},
   "source": [
    "The following structure was found for odors in each class:\n",
    "\n",
    "    Poisonous:\n",
    "            2160 foul\n",
    "            576 fishy\n",
    "            576 spicy\n",
    "            256 pungent\n",
    "            192 creosote\n",
    "            120 none\n",
    "            36 musty\n",
    "\n",
    "    Edible:\n",
    "            3408 none\n",
    "            400 almond\n",
    "            400 anise\n",
    "            \n",
    "The only possibly ambiguous case based on the data is when there is no smell as that is the only one that is common between poisonous and edible mushrooms.  An overwhelming majority of odorless mushrooms are classified as none.\n",
    "\n",
    "We can inspect other fields in similar ways to get a better idea of strong identifiers of mushroom edibility.  For example we can investigate at Spore Print Color:\n",
    "\n",
    "    Poisonous:\n",
    "        1812 white\n",
    "        1584 chocolate\n",
    "        224 brown\n",
    "        224 black\n",
    "        72 green\n",
    "    Edible:\n",
    "        1744 brown\n",
    "        1648 black\n",
    "        576 white\n",
    "        48 purple\n",
    "        48 buff\n",
    "        48 orange\n",
    "        48 chocolate\n",
    "        \n",
    "Here we see that green seems to be an infrequent trait but exclusive to poisonous mushrooms.  We also have purple, buff, and orange being infrequent but seemingly exclusive to edible mushrooms.  For colors that are common between poisonous and edible mushrooms there seems to be an overwhelming majority belonging to one class.\n",
    "    "
   ]
  },
  {
   "cell_type": "code",
   "execution_count": null,
   "metadata": {
    "collapsed": true
   },
   "outputs": [],
   "source": []
  }
 ],
 "metadata": {
  "kernelspec": {
   "display_name": "Python 2",
   "language": "python",
   "name": "python2"
  },
  "language_info": {
   "codemirror_mode": {
    "name": "ipython",
    "version": 2
   },
   "file_extension": ".py",
   "mimetype": "text/x-python",
   "name": "python",
   "nbconvert_exporter": "python",
   "pygments_lexer": "ipython2",
   "version": "2.7.11"
  }
 },
 "nbformat": 4,
 "nbformat_minor": 0
}
